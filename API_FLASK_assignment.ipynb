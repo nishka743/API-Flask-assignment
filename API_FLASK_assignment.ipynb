{
  "nbformat": 4,
  "nbformat_minor": 0,
  "metadata": {
    "colab": {
      "provenance": []
    },
    "kernelspec": {
      "name": "python3",
      "display_name": "Python 3"
    },
    "language_info": {
      "name": "python"
    }
  },
  "cells": [
    {
      "cell_type": "markdown",
      "source": [
        "# Theory Questions"
      ],
      "metadata": {
        "id": "He4VF9KYQ2tS"
      }
    },
    {
      "cell_type": "markdown",
      "source": [
        "1. What is a RESTful API?\n",
        "-A RESTful API follows the REST (Representational State Transfer) architectural style.\n",
        "\n",
        "It uses standard HTTP methods (GET, POST, PUT, DELETE) to perform CRUD operations.\n",
        "\n",
        "Resources are represented using URLs, and data is typically exchanged in JSON format."
      ],
      "metadata": {
        "id": "EXUNNQEoRA2M"
      }
    },
    {
      "cell_type": "markdown",
      "source": [
        "2. Explain the concept of API specification.\n",
        "- An API specification defines how clients and servers communicate.\n",
        "It includes endpoints, request/response formats, authentication, and error codes.\n",
        "Tools like OpenAPI/Swagger help document and test APIs.\n",
        "\n"
      ],
      "metadata": {
        "id": "i95CPXRjRKjB"
      }
    },
    {
      "cell_type": "markdown",
      "source": [
        "3. What is Flask, and why is it popular for building APIs?\n",
        "-Flask is a lightweight Python web framework.\n",
        "Popular for APIs because of:\n",
        "Minimal setup (microframework).\n",
        "Built-in development server and debugger.\n",
        "Extensions like Flask-RESTful, Flask-SQLAlchemy."
      ],
      "metadata": {
        "id": "fKEucclORUmN"
      }
    },
    {
      "cell_type": "markdown",
      "source": [
        "4. What is routing in Flask?\n",
        "- Routing refers to mapping a URL to a function.\n",
        "\n",
        "Done using @app.route() decorator."
      ],
      "metadata": {
        "id": "dE4vuwaNRugk"
      }
    },
    {
      "cell_type": "code",
      "source": [
        "@app.route('/hello')\n",
        "def hello():\n",
        "    return \"Hello, World!\"\n"
      ],
      "metadata": {
        "id": "gaW0lN3VR1un"
      },
      "execution_count": null,
      "outputs": []
    },
    {
      "cell_type": "markdown",
      "source": [
        "5. How do you create a simple Flask application ?"
      ],
      "metadata": {
        "id": "ydUlszV3RyjX"
      }
    },
    {
      "cell_type": "code",
      "source": [
        "from flask import Flask\n",
        "app = Flask(__name__)\n",
        "\n",
        "@app.route('/')\n",
        "def home():\n",
        "    return \"Welcome to Flask!\"\n",
        "\n",
        "if __name__ == '__main__':\n",
        "    app.run(debug=True)\n"
      ],
      "metadata": {
        "id": "41ta45_iitP9"
      },
      "execution_count": null,
      "outputs": []
    },
    {
      "cell_type": "markdown",
      "source": [
        "6.What are HTTP methods used in RESTful APIs?\n",
        " -GET – Read data\n",
        "\n",
        "POST – Create new data\n",
        "\n",
        "PUT – Update existing data\n",
        "\n",
        "DELETE – Delete data\n",
        "\n",
        "PATCH – Partially update data"
      ],
      "metadata": {
        "id": "xXZ4-hsCizSP"
      }
    },
    {
      "cell_type": "markdown",
      "source": [
        "7. What is the purpose of the @app.route() decorator in Flask?\n",
        "-Binds a URL path to a Python function.\n",
        "\n",
        "-Tells Flask what code to run for a given route"
      ],
      "metadata": {
        "id": "yA3Fi9GljKk-"
      }
    },
    {
      "cell_type": "markdown",
      "source": [
        "8. What is the difference between GET and POST HTTP methods?\n",
        "- GET: Retrieves data; parameters sent in URL.\n",
        "POST: Submits data; data sent in request body (more secure for sensitive data)."
      ],
      "metadata": {
        "id": "3u0O7eF0i99G"
      }
    },
    {
      "cell_type": "markdown",
      "source": [
        "9. How do you handle errors in Flask APIs?\n",
        "-Use @app.errorhandler():\n",
        "@app.errorhandler(404)\n",
        "def not_found(e):\n",
        "    return {\"error\": \"Not Found\"}, 404\n"
      ],
      "metadata": {
        "id": "QW26xd7Mjg7M"
      }
    },
    {
      "cell_type": "markdown",
      "source": [
        "10. How do you connect Flask to a SQL database?\n",
        "-Use Flask-SQLAlchemy:\n",
        "from flask_sqlalchemy import SQLAlchemy\n",
        "app.config['SQLALCHEMY_DATABASE_URI'] = 'sqlite:///data.db'\n",
        "db = SQLAlchemy(app)\n"
      ],
      "metadata": {
        "id": "VR_0Rbggjrgy"
      }
    },
    {
      "cell_type": "markdown",
      "source": [
        "11. What is the role of Flask-SQLAlchemy?\n",
        "-It is an ORM (Object Relational Mapper).\n",
        "Simplifies database operations using Python classes instead of SQL queries."
      ],
      "metadata": {
        "id": "5PJTSDsNkBHE"
      }
    },
    {
      "cell_type": "markdown",
      "source": [
        "12. What are Flask blueprints, and how are they useful?\n",
        "- Blueprints allow modular structure for large apps.\n",
        "You can group routes, views, and templates:"
      ],
      "metadata": {
        "id": "1D59rx93kJjz"
      }
    },
    {
      "cell_type": "code",
      "source": [
        "from flask import Blueprint\n",
        "users = Blueprint('users', __name__)\n"
      ],
      "metadata": {
        "id": "Qf_QqvlAkVa3"
      },
      "execution_count": null,
      "outputs": []
    },
    {
      "cell_type": "markdown",
      "source": [
        "13. What is the purpose of Flask's request object?\n",
        "Provides access to incoming request data:\n",
        "\n",
        "request.args – query params\n",
        "\n",
        "request.form – form data\n",
        "\n",
        "request.json – JSON data\n",
        "\n",
        "request.method, request.headers"
      ],
      "metadata": {
        "id": "TDYW_nwJkSYW"
      }
    },
    {
      "cell_type": "markdown",
      "source": [
        "14. How do you create a RESTful API endpoint using Flask?"
      ],
      "metadata": {
        "id": "_qQsEkXekhr1"
      }
    },
    {
      "cell_type": "code",
      "source": [
        "from flask import Flask, jsonify, request\n",
        "app = Flask(__name__)\n",
        "\n",
        "@app.route('/api/greet', methods=['GET'])\n",
        "def greet():\n",
        "    name = request.args.get('name', 'World')\n",
        "    return jsonify({'message': f'Hello, {name}!'})\n"
      ],
      "metadata": {
        "id": "L0wpn1yckoe4"
      },
      "execution_count": null,
      "outputs": []
    },
    {
      "cell_type": "markdown",
      "source": [
        "15. What is the purpose of Flask's jsonify() function?\n",
        "-Converts Python dictionaries to JSON.\n",
        "Sets the correct MIME type (application/json) for responses."
      ],
      "metadata": {
        "id": "EiM9j21FknHY"
      }
    },
    {
      "cell_type": "markdown",
      "source": [
        "16. Explain Flask’s url_for() function.\n",
        "-Dynamically generates URLs using function names.\n",
        "Helps avoid hardcoding URLs."
      ],
      "metadata": {
        "id": "fhEdrvkHk0xA"
      }
    },
    {
      "cell_type": "markdown",
      "source": [
        "17. How does Flask handle static files (CSS, JS, etc.)?\n",
        "-Flask serves static files from the static/ folder.\n",
        "Accessed via /static/filename.ext.\n",
        "\n"
      ],
      "metadata": {
        "id": "NiycjgYOk794"
      }
    },
    {
      "cell_type": "markdown",
      "source": [
        "18. What is an API specification, and how does it help in building a Flask API?\n",
        "-It’s a blueprint of the API.\n",
        "Helps in collaboration, validation, and documentation.\n",
        "Reduces errors and ensures consistent API behavior."
      ],
      "metadata": {
        "id": "KDx2qjE7lKvc"
      }
    },
    {
      "cell_type": "markdown",
      "source": [
        "19. What are HTTP status codes, and why are they important in a Flask API?\n",
        "-Status codes indicate the result of HTTP requests.\n",
        "200 OK, 201 Created, 400 Bad Request, 404 Not Found, 500 Internal Server Error\n",
        "Help clients understand responses and handle errors."
      ],
      "metadata": {
        "id": "wqGbgx1glRuU"
      }
    },
    {
      "cell_type": "markdown",
      "source": [
        "20. How do you handle POST requests in Flask?"
      ],
      "metadata": {
        "id": "d09rlkpHlXxQ"
      }
    },
    {
      "cell_type": "code",
      "source": [
        "@app.route('/submit', methods=['POST'])\n",
        "def submit():\n",
        "    data = request.get_json()\n",
        "    return jsonify({'you_sent': data}), 201\n"
      ],
      "metadata": {
        "id": "SfXy_4hRlcYN"
      },
      "execution_count": null,
      "outputs": []
    },
    {
      "cell_type": "markdown",
      "source": [
        "21. How would you secure a Flask API?\n",
        "-Use authentication (e.g., JWT).\n",
        "Enable HTTPS.\n",
        "Validate and sanitize input data.\n",
        "Use rate limiting, API keys, and error logging.\n"
      ],
      "metadata": {
        "id": "XBkPgavZlgI6"
      }
    },
    {
      "cell_type": "markdown",
      "source": [
        "22. What is the significance of the Flask-RESTful extension?\n",
        "-Simplifies building REST APIs.\n",
        "-Allows class-based views with routing:"
      ],
      "metadata": {
        "id": "gWN-e7tXlmnY"
      }
    },
    {
      "cell_type": "markdown",
      "source": [
        "23. What is the role of Flask’s session object?\n",
        "- Stores data across requests for a user (e.g., login status).\n",
        "Data is stored client-side but cryptographically signed."
      ],
      "metadata": {
        "id": "jJ30qXb7lv-q"
      }
    },
    {
      "cell_type": "markdown",
      "source": [
        "# Practical Questions"
      ],
      "metadata": {
        "id": "o3_R3hnDl2Ne"
      }
    },
    {
      "cell_type": "markdown",
      "source": [
        "1. How do you create a basic Flask application?"
      ],
      "metadata": {
        "id": "SeVtPAiDl-TV"
      }
    },
    {
      "cell_type": "code",
      "source": [
        "from flask import Flask\n",
        "\n",
        "app = Flask(__name__)\n",
        "\n",
        "@app.route('/')\n",
        "def home():\n",
        "    return 'Hello, Flask!'\n",
        "\n",
        "if __name__ == '__main__':\n",
        "    app.run(debug=True)\n"
      ],
      "metadata": {
        "id": "6f5iBt9mmFCU"
      },
      "execution_count": null,
      "outputs": []
    },
    {
      "cell_type": "markdown",
      "source": [
        "2. How do you serve static files like images or CSS in Flask?\n",
        "Place files in a folder named static/.\n",
        "Access them via /static/filename.ext.\n",
        "Example:"
      ],
      "metadata": {
        "id": "PomSewHWmcM0"
      }
    },
    {
      "cell_type": "code",
      "source": [
        "<link rel=\"stylesheet\" href=\"{{ url_for('static', filename='style.css') }}\">\n"
      ],
      "metadata": {
        "id": "l4cemnYUmnm9"
      },
      "execution_count": null,
      "outputs": []
    },
    {
      "cell_type": "markdown",
      "source": [
        "3. How do you define different routes with different HTTP methods in Flask?"
      ],
      "metadata": {
        "id": "ozwumXlcms-A"
      }
    },
    {
      "cell_type": "code",
      "source": [
        "@app.route('/submit', methods=['GET', 'POST'])\n",
        "def submit():\n",
        "    if request.method == 'POST':\n",
        "        return 'Form submitted!'\n",
        "    return 'Submit page'\n",
        "\n"
      ],
      "metadata": {
        "id": "Xw1uZW4Dmy9J"
      },
      "execution_count": null,
      "outputs": []
    },
    {
      "cell_type": "markdown",
      "source": [
        "4. How do you render HTML templates in Flask?\n",
        "-Use the templates/ directory and render_template():"
      ],
      "metadata": {
        "id": "ZxcmWjfFnB_1"
      }
    },
    {
      "cell_type": "code",
      "source": [
        "from flask import render_template\n",
        "\n",
        "@app.route('/')\n",
        "def index():\n",
        "    return render_template('index.html')\n"
      ],
      "metadata": {
        "id": "h2PNWg35nY1c"
      },
      "execution_count": null,
      "outputs": []
    },
    {
      "cell_type": "markdown",
      "source": [
        "5. How can you generate URLs for routes in Flask using url_for()?"
      ],
      "metadata": {
        "id": "rAUjAZxineGP"
      }
    },
    {
      "cell_type": "code",
      "source": [
        "@app.route('/about')\n",
        "def about():\n",
        "    return 'About Page'\n",
        "\n",
        "# somewhere else\n",
        "url = url_for('about')  # returns '/about'\n"
      ],
      "metadata": {
        "id": "7HTWS7KsnkeC"
      },
      "execution_count": null,
      "outputs": []
    },
    {
      "cell_type": "markdown",
      "source": [
        "6. How do you handle forms in Flask?"
      ],
      "metadata": {
        "id": "btQREXtynqx0"
      }
    },
    {
      "cell_type": "code",
      "source": [
        "from flask import request\n",
        "\n",
        "@app.route('/form', methods=['POST'])\n",
        "def handle_form():\n",
        "    name = request.form['name']\n",
        "    return f'Hello, {name}!'\n"
      ],
      "metadata": {
        "id": "k2mVBIhwnv09"
      },
      "execution_count": null,
      "outputs": []
    },
    {
      "cell_type": "markdown",
      "source": [
        "7. How can you validate form data in Flask?\n",
        "Manual validation:"
      ],
      "metadata": {
        "id": "26DeyMoTn0ZY"
      }
    },
    {
      "cell_type": "code",
      "source": [
        "if not request.form['email']:\n",
        "    return 'Email is required', 400\n"
      ],
      "metadata": {
        "id": "cP1cqHPZn4f8"
      },
      "execution_count": null,
      "outputs": []
    },
    {
      "cell_type": "markdown",
      "source": [
        "8. How do you manage sessions in Flask?"
      ],
      "metadata": {
        "id": "LBtWiNpBn-pp"
      }
    },
    {
      "cell_type": "code",
      "source": [
        "from flask import session\n",
        "\n",
        "app.secret_key = 'your_secret_key'\n",
        "\n",
        "@app.route('/login')\n",
        "def login():\n",
        "    session['user'] = 'Alice'\n",
        "    return 'Logged in'\n",
        "\n",
        "@app.route('/logout')\n",
        "def logout():\n",
        "    session.pop('user', None)\n",
        "    return 'Logged out'\n"
      ],
      "metadata": {
        "id": "mj-CQuzboEQj"
      },
      "execution_count": null,
      "outputs": []
    },
    {
      "cell_type": "markdown",
      "source": [
        "9. How do you redirect to a different route in Flask?"
      ],
      "metadata": {
        "id": "Q0A2lF0doL-w"
      }
    },
    {
      "cell_type": "code",
      "source": [
        "from flask import redirect, url_for\n",
        "\n",
        "@app.route('/go')\n",
        "def go():\n",
        "    return redirect(url_for('home'))\n"
      ],
      "metadata": {
        "id": "JtEPbeDmoRh3"
      },
      "execution_count": null,
      "outputs": []
    },
    {
      "cell_type": "markdown",
      "source": [
        "10. How do you handle errors in Flask (e.g., 404)?"
      ],
      "metadata": {
        "id": "G1Or3bgMoVE9"
      }
    },
    {
      "cell_type": "code",
      "source": [
        "@app.errorhandler(404)\n",
        "def page_not_found(e):\n",
        "    return 'Page not found', 404\n",
        "\n"
      ],
      "metadata": {
        "id": "vK8zpNWGoeFS"
      },
      "execution_count": null,
      "outputs": []
    },
    {
      "cell_type": "markdown",
      "source": [
        "11. How do you structure a Flask app using Blueprints?"
      ],
      "metadata": {
        "id": "RLPqjixqomI5"
      }
    },
    {
      "cell_type": "code",
      "source": [
        "# In users/routes.py\n",
        "from flask import Blueprint\n",
        "\n",
        "users = Blueprint('users', __name__)\n",
        "\n",
        "@users.route('/profile')\n",
        "def profile():\n",
        "    return 'User profile'\n",
        "\n",
        "# In main app file\n",
        "from users.routes import users\n",
        "app.register_blueprint(users, url_prefix='/users')\n"
      ],
      "metadata": {
        "id": "I9KwW4kkooXT"
      },
      "execution_count": null,
      "outputs": []
    },
    {
      "cell_type": "markdown",
      "source": [
        "12. How do you define a custom Jinja filter in Flask?"
      ],
      "metadata": {
        "id": "oEHr97ZjoveG"
      }
    },
    {
      "cell_type": "code",
      "source": [
        "@app.template_filter('reverse')\n",
        "def reverse_filter(s):\n",
        "    return s[::-1]\n",
        "\n",
        "# In template: {{ 'hello' | reverse }}\n"
      ],
      "metadata": {
        "id": "6y7IiJIyowws"
      },
      "execution_count": null,
      "outputs": []
    },
    {
      "cell_type": "markdown",
      "source": [
        "13. How can you redirect with query parameters in Flask?"
      ],
      "metadata": {
        "id": "S5ipTz_Lo49c"
      }
    },
    {
      "cell_type": "code",
      "source": [
        "return redirect(url_for('search', q='flask'))\n"
      ],
      "metadata": {
        "id": "WnEfEJuao6_X"
      },
      "execution_count": null,
      "outputs": []
    },
    {
      "cell_type": "markdown",
      "source": [
        "14. How do you return JSON responses in Flask?"
      ],
      "metadata": {
        "id": "fFhxgnjSpHcy"
      }
    },
    {
      "cell_type": "code",
      "source": [
        "from flask import jsonify\n",
        "\n",
        "@app.route('/api/data')\n",
        "def data():\n",
        "    return jsonify({'name': 'Flask', 'version': 2})\n"
      ],
      "metadata": {
        "id": "ABdYxokBpJbb"
      },
      "execution_count": null,
      "outputs": []
    },
    {
      "cell_type": "markdown",
      "source": [
        "15. How do you capture URL parameters in Flask?"
      ],
      "metadata": {
        "id": "3xWnINXypMxp"
      }
    },
    {
      "cell_type": "code",
      "source": [
        "@app.route('/user/<username>')\n",
        "def show_user(username):\n",
        "    return f'User: {username}'\n"
      ],
      "metadata": {
        "id": "IHV51pStpQya"
      },
      "execution_count": null,
      "outputs": []
    }
  ]
}